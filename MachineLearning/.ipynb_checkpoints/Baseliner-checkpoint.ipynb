{
 "cells": [
  {
   "cell_type": "code",
   "execution_count": 15,
   "id": "c697fda6-88d7-4a00-b93b-cc0bab3349b6",
   "metadata": {},
   "outputs": [],
   "source": [
    "import numpy as np\n",
    "import pandas as pd\n",
    "import matplotlib.pyplot as plt\n",
    "import seaborn as sns\n",
    "from sklearn import datasets\n",
    "from imblearn.over_sampling import SMOTE\n",
    "from sklearn.model_selection import train_test_split\n",
    "#Machine Learning Models\n",
    "from xgboost import XGBClassifier, plot_importance\n",
    "from lightgbm import LGBMClassifier, plot_importance\n",
    "from sklearn.naive_bayes import GaussianNB, MultinomialNB\n",
    "from sklearn.ensemble import RandomForestClassifier, AdaBoostClassifier, GradientBoostingClassifier\n",
    "from sklearn.linear_model import LogisticRegression\n",
    "from sklearn.neighbors import KNeighborsClassifier\n",
    "from sklearn.svm import SVC, LinearSVC\n",
    "from sklearn.tree import DecisionTreeClassifier, plot_tree\n",
    "from sklearn.model_selection import StratifiedKFold\n",
    "from sklearn.metrics import (\n",
    "    accuracy_score,\n",
    "    precision_score,\n",
    "    recall_score,\n",
    "    f1_score,\n",
    "    confusion_matrix,\n",
    "    classification_report,\n",
    ")\n",
    "\n",
    "from sklearn.metrics import accuracy_score, confusion_matrix, classification_report\n",
    "\n",
    "import time"
   ]
  },
  {
   "cell_type": "code",
   "execution_count": 16,
   "id": "10a20ce8-e746-4d04-b645-d617ac139cb8",
   "metadata": {},
   "outputs": [],
   "source": [
    "#URL\n",
    "df1 = pd.read_csv('url_features.csv').sort_values(by='url')\n",
    "df1 = pd.get_dummies(df1, columns=['tld_type'], prefix='tld')\n",
    "X1 = df1.drop(['url','label'], axis=1)\n",
    "y1 = df1['label']"
   ]
  },
  {
   "cell_type": "code",
   "execution_count": 17,
   "id": "dc136e98-e13c-4cf3-adbb-4276f532a18f",
   "metadata": {},
   "outputs": [],
   "source": [
    "#HTML\n",
    "df2 = pd.read_csv('new_html_features.csv').sort_values(by='url')\n",
    "X2 = df2.drop(['label', 'url'], axis=1)\n",
    "y2 = df2['label']"
   ]
  },
  {
   "cell_type": "code",
   "execution_count": null,
   "id": "7eede6be-157c-4ca5-b842-c6a07ae50eda",
   "metadata": {},
   "outputs": [],
   "source": [
    "#DOM\n",
    "df3 = pd.read_csv('dom_features_output.csv').sort_values(by='URL')\n",
    "X3 = df3.drop(['URL','Labeled'], axis=1)\n",
    "y3 = df3['Labeled']"
   ]
  },
  {
   "cell_type": "code",
   "execution_count": null,
   "id": "8113db9d-4604-45e4-abc9-01d0de9c8df1",
   "metadata": {},
   "outputs": [],
   "source": [
    "#Combined\n",
    "df4 = pd.read_csv('combined_features.csv').sort_values(by='URL')\n",
    "df4 = pd.get_dummies(df4, columns=['tld_type'], prefix='tld')\n",
    "X4 = df4.drop(['URL','Labeled'], axis=1)\n",
    "y4 = df4['Labeled']"
   ]
  },
  {
   "cell_type": "code",
   "execution_count": null,
   "id": "c491fdbe-ce81-496f-b566-a3cfe1554a34",
   "metadata": {},
   "outputs": [],
   "source": [
    "X_train1, X_test1, y_train1, y_test1 = train_test_split(X1, y1, stratify=y1, test_size=0.2, random_state=42)"
   ]
  },
  {
   "cell_type": "code",
   "execution_count": null,
   "id": "f3d729db-5d97-4a3a-9ba3-12eeecb6dc84",
   "metadata": {},
   "outputs": [],
   "source": [
    "X_train2, X_test2, y_train2, y_test2 = train_test_split(X2, y2, stratify=y2, test_size=0.2, random_state=42)"
   ]
  },
  {
   "cell_type": "code",
   "execution_count": null,
   "id": "2b88fc50-caae-40cb-b67d-46b7a8d800ed",
   "metadata": {},
   "outputs": [],
   "source": [
    "X_train3, X_test3, y_train3, y_test3 = train_test_split(X3, y3, stratify=y3, test_size=0.2, random_state=42)"
   ]
  },
  {
   "cell_type": "code",
   "execution_count": null,
   "id": "9fe901e7-9c02-44d3-8999-91e77b9b88e1",
   "metadata": {},
   "outputs": [],
   "source": [
    "X_train4, X_test4, y_train4, y_test4 = train_test_split(X4, y4, stratify=y4, test_size=0.2, random_state=42)"
   ]
  },
  {
   "cell_type": "code",
   "execution_count": null,
   "id": "0653c64e-f72d-40eb-87f6-ae1c59d6d397",
   "metadata": {},
   "outputs": [],
   "source": [
    "\n",
    "models = {\n",
    "    \"XGBoost\": XGBClassifier(random_state=42),\n",
    "    \"LightGBM\": LGBMClassifier(class_weight='balanced', random_state=42),\n",
    "    \"Random Forest\": RandomForestClassifier(class_weight='balanced', random_state=42),\n",
    "    \"K-Nearest Neighbor\": KNeighborsClassifier(),\n",
    "    \"Decision Tree\": DecisionTreeClassifier(class_weight='balanced', random_state=42)\n",
    "}"
   ]
  },
  {
   "cell_type": "code",
   "execution_count": null,
   "id": "e1011756-7332-40e0-b83d-fc05f5e3ed1f",
   "metadata": {},
   "outputs": [],
   "source": [
    "print(\"URL\")\n",
    "for name, model in models.items():\n",
    "    print(f\"\\n{name} \")\n",
    "    model.fit(X_train1, y_train1)\n",
    "    pred = model.predict(X_test1)\n",
    "    print(classification_report(y_test1, pred))"
   ]
  },
  {
   "cell_type": "code",
   "execution_count": null,
   "id": "9ea038de-6e41-44b8-8ef8-70f015a81802",
   "metadata": {},
   "outputs": [],
   "source": [
    "print(\"HTML\")\n",
    "for name, model in models.items():\n",
    "    print(f\"\\n{name} \")\n",
    "    model.fit(X_train2, y_train2)\n",
    "    pred = model.predict(X_test2)\n",
    "    print(classification_report(y_test2, pred))"
   ]
  },
  {
   "cell_type": "code",
   "execution_count": null,
   "id": "368c442d-ffa5-4000-879c-ed93f8c4debd",
   "metadata": {},
   "outputs": [],
   "source": [
    "print(\"DOM\")\n",
    "for name, model in models.items():\n",
    "    print(f\"\\n{name} \")\n",
    "    model.fit(X_train3, y_train3)\n",
    "    pred = model.predict(X_test3)\n",
    "    print(classification_report(y_test3, pred))"
   ]
  },
  {
   "cell_type": "code",
   "execution_count": null,
   "id": "82f20704-fc4a-4e62-8c60-aff0ce32d882",
   "metadata": {},
   "outputs": [],
   "source": []
  },
  {
   "cell_type": "code",
   "execution_count": null,
   "id": "0d57ae01-873f-4571-890b-013b586e523d",
   "metadata": {
    "scrolled": true
   },
   "outputs": [],
   "source": [
    "print(\"COMBINED\")\n",
    "for name, model in models.items():\n",
    "    print(f\"\\n{name} \")\n",
    "    model.fit(X_train4, y_train4)\n",
    "    pred = model.predict(X_test4)\n",
    "    print(classification_report(y_test4, pred))"
   ]
  },
  {
   "cell_type": "code",
   "execution_count": null,
   "id": "ccd37e21-7fd5-4551-9c04-c8a6d09fa8f2",
   "metadata": {},
   "outputs": [],
   "source": []
  },
  {
   "cell_type": "code",
   "execution_count": null,
   "id": "e7342c24-c55e-4759-bca4-3c10ea48a8d7",
   "metadata": {},
   "outputs": [],
   "source": []
  }
 ],
 "metadata": {
  "kernelspec": {
   "display_name": "Python 3 (ipykernel)",
   "language": "python",
   "name": "python3"
  },
  "language_info": {
   "codemirror_mode": {
    "name": "ipython",
    "version": 3
   },
   "file_extension": ".py",
   "mimetype": "text/x-python",
   "name": "python",
   "nbconvert_exporter": "python",
   "pygments_lexer": "ipython3",
   "version": "3.12.2"
  }
 },
 "nbformat": 4,
 "nbformat_minor": 5
}
