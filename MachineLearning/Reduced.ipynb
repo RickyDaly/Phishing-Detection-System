{
 "cells": [
  {
   "cell_type": "code",
   "execution_count": 35,
   "id": "8fc7bf57-0fad-4a4d-9da5-5723091fb878",
   "metadata": {},
   "outputs": [],
   "source": [
    "import numpy as np\n",
    "import pandas as pd\n",
    "import matplotlib.pyplot as plt\n",
    "import seaborn as sns\n",
    "from sklearn import datasets\n",
    "from imblearn.over_sampling import SMOTE\n",
    "from sklearn.model_selection import train_test_split\n",
    "#Machine Learning Models\n",
    "from xgboost import XGBClassifier, plot_importance\n",
    "from lightgbm import LGBMClassifier, plot_importance\n",
    "from sklearn.naive_bayes import GaussianNB, MultinomialNB\n",
    "from sklearn.ensemble import RandomForestClassifier, AdaBoostClassifier, GradientBoostingClassifier\n",
    "from sklearn.linear_model import LogisticRegression\n",
    "from sklearn.neighbors import KNeighborsClassifier\n",
    "from sklearn.svm import SVC, LinearSVC\n",
    "from sklearn.tree import DecisionTreeClassifier, plot_tree\n",
    "from sklearn.model_selection import StratifiedKFold\n",
    "from sklearn.metrics import (\n",
    "    accuracy_score,\n",
    "    precision_score,\n",
    "    recall_score,\n",
    "    f1_score,\n",
    "    confusion_matrix,\n",
    "    classification_report,\n",
    ")\n",
    "\n",
    "from sklearn.metrics import accuracy_score, confusion_matrix, classification_report\n",
    "\n",
    "import time\n",
    "\n",
    "from collections import Counter"
   ]
  },
  {
   "cell_type": "code",
   "execution_count": 36,
   "id": "914056b8-0f0d-4b86-a9c7-7e0304f0ff77",
   "metadata": {},
   "outputs": [],
   "source": [
    "#URL\n",
    "df1 = pd.read_csv('url_features.csv').sort_values(by='url')\n",
    "# df = pd.get_dummies(df, columns=['tld_type'], prefix='tld')\n",
    "# X = df.drop(['url','label', 'tld_type'], axis=1)\n",
    "# y = df['label']"
   ]
  },
  {
   "cell_type": "code",
   "execution_count": 37,
   "id": "92adaefb-dfc1-48f7-94dd-32ccef2a6129",
   "metadata": {},
   "outputs": [],
   "source": [
    "#HTML\n",
    "df2 = pd.read_csv('new_html_features.csv').sort_values(by='url')\n",
    "# X = df.drop(['label', 'url'], axis=1)\n",
    "# y = df['label']"
   ]
  },
  {
   "cell_type": "code",
   "execution_count": 38,
   "id": "ed28d7b4-ba6c-4996-94ae-61d9643fe81b",
   "metadata": {},
   "outputs": [],
   "source": [
    "df3 = pd.merge(df1, df2, on=\"url\")\n",
    "\n",
    "df3 = pd.get_dummies(df3, columns=['tld_type'], prefix='tld')\n",
    "df3 = df3.rename(columns={'label_x': 'label'})\n",
    "# X3 = df3.drop(['url','label', 'label_y'], axis=1)\n",
    "# y3 = df3['label']"
   ]
  },
  {
   "cell_type": "code",
   "execution_count": null,
   "id": "aef81153-8b30-47b4-b0b0-2027c1892fc2",
   "metadata": {},
   "outputs": [],
   "source": []
  },
  {
   "cell_type": "code",
   "execution_count": null,
   "id": "4d88a9f5-e96e-4c63-9394-0cade637894a",
   "metadata": {},
   "outputs": [],
   "source": []
  },
  {
   "cell_type": "code",
   "execution_count": null,
   "id": "da176c63-fbcc-4c92-a7e5-5a15243c4f7f",
   "metadata": {},
   "outputs": [],
   "source": []
  },
  {
   "cell_type": "code",
   "execution_count": null,
   "id": "2c661df9-782f-4d5c-95ee-6dd5befaf292",
   "metadata": {},
   "outputs": [],
   "source": []
  },
  {
   "cell_type": "code",
   "execution_count": null,
   "id": "c8506204-cb43-45f2-8782-1d6340a9d573",
   "metadata": {},
   "outputs": [],
   "source": []
  },
  {
   "cell_type": "code",
   "execution_count": 39,
   "id": "97e7ccb3-b918-4cbf-a805-834a0813cf4a",
   "metadata": {},
   "outputs": [],
   "source": [
    "# #DOM\n",
    "# df3 = pd.read_csv('dom_features_output.csv').sort_values(by='URL')\n",
    "# # X3 = df3.drop(['URL','Labeled'], axis=1)\n",
    "# # y3 = df3['Labeled']"
   ]
  },
  {
   "cell_type": "code",
   "execution_count": 40,
   "id": "da2e35cf-1890-49b3-bd91-0a440f8b7a58",
   "metadata": {},
   "outputs": [],
   "source": [
    "# #Combined\n",
    "# df4 = pd.read_csv('combined_features.csv').sort_values(by='URL')\n",
    "# # # df = pd.get_dummies(df, columns=['tld_type'], prefix='tld')\n",
    "# # X = df.drop(['URL','Labeled', 'tld_type'], axis=1)\n",
    "# # y = df['Labeled']"
   ]
  },
  {
   "cell_type": "code",
   "execution_count": 41,
   "id": "c2ae0cca-c500-463b-bd75-e3001d39aacd",
   "metadata": {},
   "outputs": [],
   "source": [
    "# 80,000\n",
    "# n_legit = 77600\n",
    "# n_phish = 2400\n",
    "\n",
    "\n",
    "# 25% - 174,268\n",
    "# n_legit = 168040\n",
    "# n_phish = 5228\n",
    "\n",
    "\n",
    "# 50% - 348,536\n",
    "n_legit = 337080\n",
    "n_phish = 10456"
   ]
  },
  {
   "cell_type": "code",
   "execution_count": 42,
   "id": "aead43b3-57c5-41fa-832a-44c3e0241f37",
   "metadata": {},
   "outputs": [],
   "source": [
    "# legit_df1 = df1[df1['label'] == 0]\n",
    "# phish_df1 = df1[df1['label'] == 1]\n",
    "\n",
    "# legit_df2 = df2[df2['label'] == 0]\n",
    "# phish_df2 = df2[df2['label'] == 1]\n",
    "\n",
    "legit_df3 = df3[df3['label'] == 0]\n",
    "phish_df3 = df3[df3['label'] == 1]\n",
    "\n",
    "# legit_df4 = df4[df4['Labeled'] == 0]\n",
    "# phish_df4 = df4[df4['Labeled'] == 1]"
   ]
  },
  {
   "cell_type": "code",
   "execution_count": 43,
   "id": "c199b6c6-1f2b-4f7b-8cb4-b235e0fe3284",
   "metadata": {},
   "outputs": [],
   "source": [
    "# sampled_legit1 = legit_df1.sample(n=n_legit, random_state=42)\n",
    "# sampled_phish1 = phish_df1.sample(n=n_phish, random_state=42)\n",
    "\n",
    "\n",
    "\n",
    "# sampled_legit2 = legit_df2.sample(n=n_legit, random_state=42)\n",
    "# sampled_phish2 = phish_df2.sample(n=n_phish, random_state=42)\n",
    "\n",
    "sampled_legit3 = legit_df3.sample(n=n_legit, random_state=42)\n",
    "sampled_phish3 = phish_df3.sample(n=n_phish, random_state=42)\n",
    "\n",
    "# sampled_legit4 = legit_df4.sample(n=n_legit, random_state=42)\n",
    "# sampled_phish4 = phish_df4.sample(n=n_phish, random_state=42)"
   ]
  },
  {
   "cell_type": "code",
   "execution_count": 44,
   "id": "54a4792f-8649-4c81-a654-6297edaee981",
   "metadata": {},
   "outputs": [],
   "source": [
    "# reduced_df1 = pd.concat([sampled_legit1, sampled_phish1]).sample(frac=1, random_state=42).reset_index(drop=True)\n",
    "# print(reduced_df1)\n",
    "# reduced_df2 = pd.concat([sampled_legit2, sampled_phish2]).sample(frac=1, random_state=42).reset_index(drop=True)\n",
    "reduced_df3 = pd.concat([sampled_legit3, sampled_phish3]).sample(frac=1, random_state=42).reset_index(drop=True)\n",
    "# reduced_df4 = pd.concat([sampled_legit4, sampled_phish4]).sample(frac=1, random_state=42).reset_index(drop=True)"
   ]
  },
  {
   "cell_type": "code",
   "execution_count": 45,
   "id": "193b1bc0-d7ff-4106-bd82-bd49fd05268c",
   "metadata": {},
   "outputs": [],
   "source": [
    "# reduced_df1 = pd.get_dummies(reduced_df1, columns=['tld_type'], prefix='tld')\n",
    "# reduced_df4 = pd.get_dummies(reduced_df4, columns=['tld_type'], prefix='tld')\n",
    "\n",
    "\n",
    "\n",
    "# X1 = reduced_df1.drop(['url','label'], axis=1)\n",
    "# y1 = reduced_df1['label']\n",
    "\n",
    "\n",
    "# X2 = reduced_df2.drop(['url','label'], axis=1)\n",
    "# y2 = reduced_df2['label']\n",
    "\n",
    "\n",
    "# X3 = reduced_df3.drop(['URL','Labeled'], axis=1)\n",
    "# y3 = reduced_df3['Labeled']\n",
    "\n",
    "X3 = reduced_df3.drop(['url','label', 'label_y'], axis=1)\n",
    "y3 = reduced_df3['label']\n",
    "\n",
    "\n",
    "# X4 = reduced_df4.drop(['URL','Labeled'], axis=1)\n",
    "# y4 = reduced_df4['Labeled']"
   ]
  },
  {
   "cell_type": "code",
   "execution_count": null,
   "id": "27305a01-4f88-4294-b180-b82b7e02806f",
   "metadata": {},
   "outputs": [],
   "source": []
  },
  {
   "cell_type": "code",
   "execution_count": null,
   "id": "33f77b92-15cc-40b7-adcb-02fee6a795a8",
   "metadata": {},
   "outputs": [],
   "source": []
  },
  {
   "cell_type": "code",
   "execution_count": null,
   "id": "265afa1f-e9a8-4f3d-95f8-f21038d54dde",
   "metadata": {},
   "outputs": [],
   "source": []
  },
  {
   "cell_type": "code",
   "execution_count": null,
   "id": "e951e8d8-d41f-4c76-bbe2-6b6e6eba8205",
   "metadata": {},
   "outputs": [],
   "source": []
  },
  {
   "cell_type": "code",
   "execution_count": 46,
   "id": "f1fd9f7b-e819-49ea-9588-81c4c65f7db4",
   "metadata": {},
   "outputs": [],
   "source": [
    "# X_train1, X_test1, y_train1, y_test1 = train_test_split(X1, y1, stratify=y1, test_size=0.2, random_state=42)\n",
    "# X_train2, X_test2, y_train2, y_test2 = train_test_split(X2, y2, stratify=y2, test_size=0.2, random_state=42)\n",
    "X_train3, X_test3, y_train3, y_test3 = train_test_split(X3, y3, stratify=y3, test_size=0.2, random_state=42)\n",
    "# X_train4, X_test4, y_train4, y_test4 = train_test_split(X4, y4, stratify=y4, test_size=0.2, random_state=42)"
   ]
  },
  {
   "cell_type": "code",
   "execution_count": 47,
   "id": "35ed5826-fe71-4ca0-8e29-36c98ec5edbe",
   "metadata": {},
   "outputs": [],
   "source": [
    "# models = {\n",
    "#     \"XGBoost\": XGBClassifier(random_state=42),\n",
    "#     \"LightGBM\": LGBMClassifier(random_state=42),\n",
    "#     \"Naive Bayes\": GaussianNB(),\n",
    "#     \"Random Forest\": RandomForestClassifier(random_state=42),\n",
    "#     \"Logistic Regression\": LogisticRegression(max_iter=1000, solver='sag', random_state=42),\n",
    "#     \"AdaBoost\": AdaBoostClassifier(random_state=42),\n",
    "#     \"K-Nearest Neighbor\": KNeighborsClassifier(),\n",
    "#     \"SVM\": LinearSVC(max_iter=10000, random_state=42),\n",
    "#     \"Gradient Boosting\": GradientBoostingClassifier(random_state=42),\n",
    "#     \"Decision Tree\": DecisionTreeClassifier(random_state=42)\n",
    "# }\n",
    "\n",
    "models = {\n",
    "    \"XGBoost\": XGBClassifier(random_state=42),\n",
    "    \"LightGBM\": LGBMClassifier(random_state=42),\n",
    "    \"Random Forest\": RandomForestClassifier( random_state=42),\n",
    "    \"K-Nearest Neighbor\": KNeighborsClassifier(),\n",
    "    \"Decision Tree\": DecisionTreeClassifier( random_state=42)\n",
    "}\n",
    "\n",
    "\n",
    "\n",
    "# models1 = {\n",
    "#     \"XGBoost\": XGBClassifier(n_estimators= 285, max_depth= 14, learning_rate= 0.23516408562244562, subsample= 0.9476801904106841, colsample_bytree= 0.9410943761425016, gamma= 0.4921559267520431),\n",
    "#     \"LightGBM\": LGBMClassifier(num_leaves= 76, max_depth= 15, learning_rate= 0.11871003661065671, n_estimators= 262, subsample= 0.6925676412124252, colsample_bytree= 0.5890875605650422, min_child_samples= 13),\n",
    "#     \"Random Forest\": RandomForestClassifier(n_estimators= 431, max_depth= 91, min_samples_split= 16, min_samples_leaf= 1, max_features= 0.5),\n",
    "#     \"K-Nearest Neighbor\": KNeighborsClassifier(n_neighbors= 19, weights= 'distance', p= 1),\n",
    "#     \"Decision Tree\": DecisionTreeClassifier(max_depth= 20, min_samples_split= 18, min_samples_leaf= 3, criterion= 'gini')\n",
    "# }\n",
    "\n",
    "\n",
    "# models2 = {\n",
    "#     \"XGBoost\": XGBClassifier(n_estimators= 266, max_depth= 15, learning_rate= 0.13351686976101595, subsample= 0.7955526605075939, colsample_bytree= 0.9230458587611235, gamma= 0.3686268117259979),\n",
    "#     \"LightGBM\": LGBMClassifier(num_leaves= 98, max_depth= 11, learning_rate= 0.13471939419847936, n_estimators= 128, subsample= 0.7854123612266426, colsample_bytree= 0.635141489190874, min_child_samples= 15),\n",
    "#     \"Random Forest\": RandomForestClassifier(n_estimators= 476, max_depth= 53, min_samples_split= 4, min_samples_leaf= 1, max_features= 0.5),\n",
    "#     \"K-Nearest Neighbor\": KNeighborsClassifier(n_neighbors= 17, weights= 'distance', p= 1),\n",
    "#     \"Decision Tree\": DecisionTreeClassifier(max_depth= 18, min_samples_split= 9, min_samples_leaf= 2, criterion= 'entropy')\n",
    "# }\n",
    "\n",
    "\n",
    "# models3 = {\n",
    "#     \"XGBoost\": XGBClassifier(n_estimators= 292, max_depth= 4, learning_rate= 0.2877864156839244, subsample= 0.7830822148069992, colsample_bytree= 0.779104798289541, gamma= 2.5830298263055074),\n",
    "#     \"LightGBM\": LGBMClassifier(num_leaves= 56, max_depth= 3, learning_rate= 0.2560958215832253, n_estimators= 295, subsample= 0.7925691690801657, colsample_bytree= 0.5784806464204434, min_child_samples= 18),\n",
    "#     \"Random Forest\": RandomForestClassifier(n_estimators= 289, max_depth= 55, min_samples_split= 4, min_samples_leaf= 1, max_features= 0.8),\n",
    "#     \"K-Nearest Neighbor\": KNeighborsClassifier(n_neighbors= 9, weights= 'distance', p= 1),\n",
    "#     \"Decision Tree\": DecisionTreeClassifier(max_depth= 20, min_samples_split= 4, min_samples_leaf= 10, criterion= 'entropy')\n",
    "# }\n",
    "\n",
    "\n",
    "# models4 = {\n",
    "#     \"XGBoost\": XGBClassifier(n_estimators= 223, max_depth= 8, learning_rate= 0.0893635051787544, subsample= 0.993458062379862, colsample_bytree= 0.7241865307672379, gamma= 0.3473092089274311),\n",
    "#     \"LightGBM\": LGBMClassifier(num_leaves= 85, max_depth= 13, learning_rate= 0.04946986119539474, n_estimators= 275, subsample= 0.5432085069114337, colsample_bytree= 0.6487676396254414, min_child_samples= 11),\n",
    "#     \"Random Forest\": RandomForestClassifier(n_estimators= 200, max_depth= 56, min_samples_split= 3, min_samples_leaf= 1, max_features= 0.5),\n",
    "#     \"K-Nearest Neighbor\": KNeighborsClassifier(n_neighbors= 4, weights= 'distance', p= 1),\n",
    "#     \"Decision Tree\": DecisionTreeClassifier(max_depth= 19, min_samples_split= 12, min_samples_leaf= 6, criterion= 'gini')\n",
    "# }"
   ]
  },
  {
   "cell_type": "code",
   "execution_count": 48,
   "id": "cb24b1c1-7125-47c1-819d-1e065280943b",
   "metadata": {},
   "outputs": [],
   "source": [
    "# print(\"URL\")\n",
    "# for name, model in models1.items():\n",
    "#     print(f\"\\n{name} \")\n",
    "#     model.fit(X_train1, y_train1)\n",
    "#     pred = model.predict(X_test1)\n",
    "#     print(classification_report(y_test1, pred))"
   ]
  },
  {
   "cell_type": "code",
   "execution_count": 49,
   "id": "4b385824-d71a-4068-bb91-4cb7b9edf0d6",
   "metadata": {},
   "outputs": [],
   "source": [
    "# print(\"HTML\")\n",
    "# for name, model in models2.items():\n",
    "#     print(f\"\\n{name} \")\n",
    "#     model.fit(X_train2, y_train2)\n",
    "#     pred = model.predict(X_test2)\n",
    "#     print(classification_report(y_test2, pred))"
   ]
  },
  {
   "cell_type": "code",
   "execution_count": 50,
   "id": "ccecd2c8-1016-4f5c-a637-5f39f728e535",
   "metadata": {},
   "outputs": [
    {
     "name": "stdout",
     "output_type": "stream",
     "text": [
      "URL & HTML\n",
      "\n",
      "XGBoost \n",
      "              precision    recall  f1-score   support\n",
      "\n",
      "           0       0.99      1.00      0.99     67417\n",
      "           1       0.84      0.61      0.71      2091\n",
      "\n",
      "    accuracy                           0.98     69508\n",
      "   macro avg       0.91      0.80      0.85     69508\n",
      "weighted avg       0.98      0.98      0.98     69508\n",
      "\n",
      "\n",
      "LightGBM \n",
      "[LightGBM] [Info] Number of positive: 8365, number of negative: 269663\n",
      "[LightGBM] [Info] Auto-choosing row-wise multi-threading, the overhead of testing was 0.032461 seconds.\n",
      "You can set `force_row_wise=true` to remove the overhead.\n",
      "And if memory is not enough, you can set `force_col_wise=true`.\n",
      "[LightGBM] [Info] Total Bins 6767\n",
      "[LightGBM] [Info] Number of data points in the train set: 278028, number of used features: 231\n",
      "[LightGBM] [Info] [binary:BoostFromScore]: pavg=0.030087 -> initscore=-3.473117\n",
      "[LightGBM] [Info] Start training from score -3.473117\n",
      "              precision    recall  f1-score   support\n",
      "\n",
      "           0       0.99      1.00      0.99     67417\n",
      "           1       0.84      0.59      0.69      2091\n",
      "\n",
      "    accuracy                           0.98     69508\n",
      "   macro avg       0.91      0.79      0.84     69508\n",
      "weighted avg       0.98      0.98      0.98     69508\n",
      "\n",
      "\n",
      "Random Forest \n",
      "              precision    recall  f1-score   support\n",
      "\n",
      "           0       0.99      1.00      0.99     67417\n",
      "           1       0.86      0.70      0.78      2091\n",
      "\n",
      "    accuracy                           0.99     69508\n",
      "   macro avg       0.93      0.85      0.88     69508\n",
      "weighted avg       0.99      0.99      0.99     69508\n",
      "\n",
      "\n",
      "K-Nearest Neighbor \n",
      "              precision    recall  f1-score   support\n",
      "\n",
      "           0       0.99      1.00      0.99     67417\n",
      "           1       0.82      0.69      0.75      2091\n",
      "\n",
      "    accuracy                           0.99     69508\n",
      "   macro avg       0.90      0.84      0.87     69508\n",
      "weighted avg       0.99      0.99      0.99     69508\n",
      "\n",
      "\n",
      "Decision Tree \n",
      "              precision    recall  f1-score   support\n",
      "\n",
      "           0       0.99      0.99      0.99     67417\n",
      "           1       0.74      0.71      0.73      2091\n",
      "\n",
      "    accuracy                           0.98     69508\n",
      "   macro avg       0.87      0.85      0.86     69508\n",
      "weighted avg       0.98      0.98      0.98     69508\n",
      "\n"
     ]
    }
   ],
   "source": [
    "# print(\"DOM\")\n",
    "print(\"URL & HTML\")\n",
    "for name, model in models.items():\n",
    "    print(f\"\\n{name} \")\n",
    "    model.fit(X_train3, y_train3)\n",
    "    pred = model.predict(X_test3)\n",
    "    print(classification_report(y_test3, pred))"
   ]
  },
  {
   "cell_type": "code",
   "execution_count": 51,
   "id": "a18a7370-1e0a-4b1c-b390-2a2cd83459a6",
   "metadata": {},
   "outputs": [],
   "source": [
    "# print(\"COMBINED\")\n",
    "# for name, model in models4.items():\n",
    "#     print(f\"\\n{name} \")\n",
    "#     model.fit(X_train4, y_train4)\n",
    "#     pred = model.predict(X_test4)\n",
    "#     print(classification_report(y_test4, pred))"
   ]
  },
  {
   "cell_type": "code",
   "execution_count": null,
   "id": "755eba5a-91bc-41a5-b7fd-93c3f7f48ef6",
   "metadata": {},
   "outputs": [],
   "source": []
  },
  {
   "cell_type": "code",
   "execution_count": null,
   "id": "c3994593-8a6e-463b-8f1d-8b97bdd06030",
   "metadata": {},
   "outputs": [],
   "source": []
  },
  {
   "cell_type": "code",
   "execution_count": null,
   "id": "8817cc19-fa7c-4db1-9872-5cf0d76637df",
   "metadata": {},
   "outputs": [],
   "source": []
  },
  {
   "cell_type": "code",
   "execution_count": null,
   "id": "45a00740-f558-49bd-91a9-c2ecf2aa5e4d",
   "metadata": {},
   "outputs": [],
   "source": []
  },
  {
   "cell_type": "code",
   "execution_count": null,
   "id": "4187d5ae-587a-4510-9704-65e90590e1d7",
   "metadata": {},
   "outputs": [],
   "source": []
  }
 ],
 "metadata": {
  "kernelspec": {
   "display_name": "Python 3 (ipykernel)",
   "language": "python",
   "name": "python3"
  },
  "language_info": {
   "codemirror_mode": {
    "name": "ipython",
    "version": 3
   },
   "file_extension": ".py",
   "mimetype": "text/x-python",
   "name": "python",
   "nbconvert_exporter": "python",
   "pygments_lexer": "ipython3",
   "version": "3.12.2"
  }
 },
 "nbformat": 4,
 "nbformat_minor": 5
}
