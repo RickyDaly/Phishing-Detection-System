{
 "cells": [
  {
   "cell_type": "code",
   "execution_count": 31,
   "id": "2c1412e4-9b84-4712-b581-69ec51784a53",
   "metadata": {},
   "outputs": [],
   "source": [
    "import numpy as np\n",
    "import pandas as pd\n",
    "import matplotlib.pyplot as plt\n",
    "import seaborn as sns\n",
    "from sklearn import datasets\n",
    "from imblearn.over_sampling import SMOTE\n",
    "from sklearn.model_selection import train_test_split\n",
    "#Machine Learning Models\n",
    "from xgboost import XGBClassifier, plot_importance\n",
    "from lightgbm import LGBMClassifier, plot_importance\n",
    "from sklearn.naive_bayes import GaussianNB, MultinomialNB\n",
    "from sklearn.ensemble import RandomForestClassifier, AdaBoostClassifier, GradientBoostingClassifier\n",
    "from sklearn.linear_model import LogisticRegression\n",
    "from sklearn.neighbors import KNeighborsClassifier\n",
    "from sklearn.svm import SVC, LinearSVC\n",
    "from sklearn.tree import DecisionTreeClassifier, plot_tree\n",
    "from sklearn.model_selection import StratifiedKFold\n",
    "from sklearn.metrics import (\n",
    "    accuracy_score,\n",
    "    precision_score,\n",
    "    recall_score,\n",
    "    f1_score,\n",
    "    confusion_matrix,\n",
    "    classification_report,\n",
    ")\n",
    "\n",
    "from sklearn.metrics import accuracy_score, confusion_matrix, classification_report\n",
    "\n",
    "import time\n",
    "from collections import Counter\n",
    "from imblearn.combine import SMOTETomek, SMOTEENN\n",
    "from imblearn.over_sampling import ADASYN\n",
    "from imblearn.under_sampling import RandomUnderSampler\n",
    "from imblearn.over_sampling import RandomOverSampler\n",
    "from imblearn.pipeline import Pipeline"
   ]
  },
  {
   "cell_type": "code",
   "execution_count": 32,
   "id": "5d9f315e-08e5-48ea-9f6b-1bfea5690841",
   "metadata": {},
   "outputs": [],
   "source": [
    "#URL\n",
    "df1 = pd.read_csv('url_features.csv').sort_values(by='url')\n",
    "# df1 = pd.get_dummies(df1, columns=['tld_type'], prefix='tld')\n",
    "# X1 = df1.drop(['url','label'], axis=1)\n",
    "# y1 = df1['label']"
   ]
  },
  {
   "cell_type": "code",
   "execution_count": 33,
   "id": "f9549fd5-2bdc-4f94-ad72-dbe1b19aa73b",
   "metadata": {},
   "outputs": [],
   "source": [
    "#HTML\n",
    "df2 = pd.read_csv('new_html_features.csv').sort_values(by='url')\n",
    "# X2 = df2.drop(['label', 'url'], axis=1)\n",
    "# y2 = df2['label']"
   ]
  },
  {
   "cell_type": "code",
   "execution_count": 34,
   "id": "38b86eff-de11-45bb-ac49-508950b2c1af",
   "metadata": {},
   "outputs": [],
   "source": [
    "df3 = pd.merge(df1, df2, on=\"url\")"
   ]
  },
  {
   "cell_type": "code",
   "execution_count": 35,
   "id": "537fba67-2d60-4b52-b129-a3aaf074a38b",
   "metadata": {},
   "outputs": [],
   "source": [
    "df3 = pd.get_dummies(df3, columns=['tld_type'], prefix='tld')\n",
    "df3 = df3.rename(columns={'label_x': 'label'})"
   ]
  },
  {
   "cell_type": "code",
   "execution_count": 36,
   "id": "a4fc2f91-669b-4d38-a216-db7db6da1ff5",
   "metadata": {},
   "outputs": [],
   "source": [
    "# df3 = pd.get_dummies(df3, columns=['tld_type'], prefix='tld')\n",
    "# X3 = df3.drop(['url','label','label_y'], axis=1)\n",
    "# y3 = df3['label']"
   ]
  },
  {
   "cell_type": "code",
   "execution_count": 37,
   "id": "4e7d7be0-eeb7-429f-b643-5fc4466b64a2",
   "metadata": {},
   "outputs": [],
   "source": [
    "# 25% - 174,268\n",
    "n_legit = 168040\n",
    "n_phish = 5228"
   ]
  },
  {
   "cell_type": "code",
   "execution_count": 38,
   "id": "6e307ae6-b304-4e27-83b0-fd566a1c5e84",
   "metadata": {},
   "outputs": [],
   "source": [
    "legit_df3 = df3[df3['label'] == 0]\n",
    "phish_df3 = df3[df3['label'] == 1]\n",
    "\n",
    "sampled_legit3 = legit_df3.sample(n=n_legit, random_state=42)\n",
    "sampled_phish3 = phish_df3.sample(n=n_phish, random_state=42)"
   ]
  },
  {
   "cell_type": "code",
   "execution_count": 39,
   "id": "ebf6fcb9-f51a-43b0-8248-0065fd27174e",
   "metadata": {},
   "outputs": [],
   "source": [
    "reduced_df3 = pd.concat([sampled_legit3, sampled_phish3]).sample(frac=1, random_state=42).reset_index(drop=True)\n",
    "\n",
    "X3 = reduced_df3.drop(['url','label', 'label_y'], axis=1)\n",
    "y3 = reduced_df3['label']"
   ]
  },
  {
   "cell_type": "code",
   "execution_count": null,
   "id": "143b8b90-12c3-4899-978e-a61256b8314c",
   "metadata": {},
   "outputs": [],
   "source": []
  },
  {
   "cell_type": "code",
   "execution_count": 40,
   "id": "e11431b1-9cf2-4f76-ade7-942593a173de",
   "metadata": {},
   "outputs": [],
   "source": [
    "X_train3, X_test3, y_train3, y_test3 = train_test_split(X3, y3, stratify=y3, test_size=0.2, random_state=42)"
   ]
  },
  {
   "cell_type": "code",
   "execution_count": 57,
   "id": "16d85bb8-8ff8-4624-af35-66d1775314d4",
   "metadata": {},
   "outputs": [],
   "source": [
    "# smote = SMOTE(sampling_strategy='auto', random_state=42)  \n",
    "# X_resampled3, y_resampled3 = smote.fit_resample(X_train3, y_train3)\n",
    "\n",
    "# smote_tomek = SMOTETomek(random_state=42)\n",
    "# X_resampled3, y_resampled3 = smote_tomek.fit_resample(X_train3, y_train3)\n",
    "\n",
    "# smote_enn = SMOTEENN(random_state=42)\n",
    "# X_resampled3, y_resampled3 = smote_enn.fit_resample(X_train3, y_train3)\n",
    "\n",
    "\n",
    "\n",
    "# adasyn = ADASYN(random_state=42, n_neighbors=5)\n",
    "# X_resampled3, y_resampled3 = adasyn.fit_resample(X_train3, y_train3)\n",
    "\n",
    "\n",
    "# rus = RandomUnderSampler(random_state=42)\n",
    "# X_resampled3, y_resampled3 = rus.fit_resample(X_train3, y_train3)\n",
    "\n",
    "ros = RandomOverSampler(random_state=42)\n",
    "X_resampled3, y_resampled3 = ros.fit_resample(X_train3, y_train3)\n",
    "\n",
    "\n",
    "\n",
    "# ros = RandomOverSampler(sampling_strategy={1: 5000}, random_state=42)\n",
    "# rus = RandomUnderSampler(sampling_strategy={0: 5000, 1: 5000}, random_state=42)\n",
    "# pipeline = Pipeline(steps=[('ros', ros), ('rus', rus)])\n",
    "# X_resampled3, y_resampled3 = pipeline.fit_resample(X_train3, y_train3)\n"
   ]
  },
  {
   "cell_type": "code",
   "execution_count": 58,
   "id": "3f04f0b8-9350-4730-b557-44eea05912db",
   "metadata": {},
   "outputs": [],
   "source": [
    "models = {\n",
    "    \"XGBoost\": XGBClassifier(n_estimators= 281, max_depth= 14, learning_rate= 0.0888992418241481, subsample= 0.9134952932290352, colsample_bytree= 0.6533354924947662, gamma= 0.25380562179671745, random_state=42),\n",
    "    \"LightGBM\": LGBMClassifier(num_leaves= 96, max_depth= 15, learning_rate= 0.16099354321038145, n_estimators= 292, subsample= 0.995245362847253, colsample_bytree= 0.883261087073046, min_child_samples= 25,random_state=42),\n",
    "    \"Random Forest\": RandomForestClassifier(n_estimators= 206, max_depth= 95, min_samples_split= 3, min_samples_leaf= 1, max_features= 'sqrt', random_state=42),\n",
    "    # \"K-Nearest Neighbor\": KNeighborsClassifier(n_neighbors= 18, weights= 'distance', p= 1),\n",
    "    \"Decision Tree\": DecisionTreeClassifier(max_depth= 20, min_samples_split= 11, min_samples_leaf= 2, criterion='entropy', random_state=42)\n",
    "}"
   ]
  },
  {
   "cell_type": "code",
   "execution_count": 59,
   "id": "41fa13aa-c9ab-4c19-9094-552fcc86776c",
   "metadata": {},
   "outputs": [
    {
     "name": "stdout",
     "output_type": "stream",
     "text": [
      "URL and HTML\n",
      "\n",
      "XGBoost \n",
      "              precision    recall  f1-score   support\n",
      "\n",
      "           0       0.99      0.98      0.99     33608\n",
      "           1       0.55      0.84      0.67      1046\n",
      "\n",
      "    accuracy                           0.97     34654\n",
      "   macro avg       0.77      0.91      0.83     34654\n",
      "weighted avg       0.98      0.97      0.98     34654\n",
      "\n",
      "\n",
      "LightGBM \n",
      "[LightGBM] [Info] Number of positive: 134432, number of negative: 134432\n",
      "[LightGBM] [Info] Auto-choosing row-wise multi-threading, the overhead of testing was 0.035721 seconds.\n",
      "You can set `force_row_wise=true` to remove the overhead.\n",
      "And if memory is not enough, you can set `force_col_wise=true`.\n",
      "[LightGBM] [Info] Total Bins 6034\n",
      "[LightGBM] [Info] Number of data points in the train set: 268864, number of used features: 187\n",
      "[LightGBM] [Info] [binary:BoostFromScore]: pavg=0.500000 -> initscore=0.000000\n",
      "[LightGBM] [Warning] No further splits with positive gain, best gain: -inf\n",
      "[LightGBM] [Warning] No further splits with positive gain, best gain: -inf\n",
      "[LightGBM] [Warning] No further splits with positive gain, best gain: -inf\n",
      "[LightGBM] [Warning] No further splits with positive gain, best gain: -inf\n",
      "[LightGBM] [Warning] No further splits with positive gain, best gain: -inf\n",
      "[LightGBM] [Warning] No further splits with positive gain, best gain: -inf\n",
      "[LightGBM] [Warning] No further splits with positive gain, best gain: -inf\n",
      "[LightGBM] [Warning] No further splits with positive gain, best gain: -inf\n",
      "[LightGBM] [Warning] No further splits with positive gain, best gain: -inf\n",
      "[LightGBM] [Warning] No further splits with positive gain, best gain: -inf\n",
      "[LightGBM] [Warning] No further splits with positive gain, best gain: -inf\n",
      "[LightGBM] [Warning] No further splits with positive gain, best gain: -inf\n",
      "[LightGBM] [Warning] No further splits with positive gain, best gain: -inf\n",
      "[LightGBM] [Warning] No further splits with positive gain, best gain: -inf\n",
      "              precision    recall  f1-score   support\n",
      "\n",
      "           0       0.99      0.98      0.99     33608\n",
      "           1       0.55      0.84      0.66      1046\n",
      "\n",
      "    accuracy                           0.97     34654\n",
      "   macro avg       0.77      0.91      0.82     34654\n",
      "weighted avg       0.98      0.97      0.98     34654\n",
      "\n",
      "\n",
      "Random Forest \n",
      "              precision    recall  f1-score   support\n",
      "\n",
      "           0       0.99      0.98      0.99     33608\n",
      "           1       0.58      0.80      0.67      1046\n",
      "\n",
      "    accuracy                           0.98     34654\n",
      "   macro avg       0.79      0.89      0.83     34654\n",
      "weighted avg       0.98      0.98      0.98     34654\n",
      "\n",
      "\n",
      "Decision Tree \n",
      "              precision    recall  f1-score   support\n",
      "\n",
      "           0       0.99      0.96      0.98     33608\n",
      "           1       0.41      0.84      0.55      1046\n",
      "\n",
      "    accuracy                           0.96     34654\n",
      "   macro avg       0.70      0.90      0.76     34654\n",
      "weighted avg       0.98      0.96      0.97     34654\n",
      "\n"
     ]
    }
   ],
   "source": [
    "# print(\"URL & HTML\")\n",
    "# for name, model in models.items():\n",
    "#     print(f\"\\n{name} \")\n",
    "#     model.fit(X_train3, y_train3)\n",
    "#     pred = model.predict(X_test3)\n",
    "#     print(classification_report(y_test3, pred))\n",
    "\n",
    "\n",
    "print(\"URL and HTML\")\n",
    "for name, model in models.items():\n",
    "    print(f\"\\n{name} \")\n",
    "    model.fit(X_resampled3, y_resampled3)\n",
    "    # model.fit(X_train3, y_train3)\n",
    "    pred = model.predict(X_test3)\n",
    "    print(classification_report(y_test3, pred))"
   ]
  },
  {
   "cell_type": "code",
   "execution_count": null,
   "id": "5cb40c50-0021-42a1-84d8-0738e9405ca5",
   "metadata": {},
   "outputs": [],
   "source": []
  },
  {
   "cell_type": "code",
   "execution_count": null,
   "id": "97349039-1d20-4b76-bc03-c80c61e3f906",
   "metadata": {},
   "outputs": [],
   "source": []
  },
  {
   "cell_type": "code",
   "execution_count": null,
   "id": "d9f637e6-067b-4c37-b285-21ddf44b27b6",
   "metadata": {},
   "outputs": [],
   "source": []
  }
 ],
 "metadata": {
  "kernelspec": {
   "display_name": "Python 3 (ipykernel)",
   "language": "python",
   "name": "python3"
  },
  "language_info": {
   "codemirror_mode": {
    "name": "ipython",
    "version": 3
   },
   "file_extension": ".py",
   "mimetype": "text/x-python",
   "name": "python",
   "nbconvert_exporter": "python",
   "pygments_lexer": "ipython3",
   "version": "3.12.2"
  }
 },
 "nbformat": 4,
 "nbformat_minor": 5
}
