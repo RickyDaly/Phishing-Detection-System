{
 "cells": [
  {
   "cell_type": "code",
   "execution_count": 50,
   "id": "7ca23c53-0015-4712-9eb3-888ddcdec338",
   "metadata": {},
   "outputs": [],
   "source": [
    "import numpy as np\n",
    "import pandas as pd\n",
    "import matplotlib.pyplot as plt\n",
    "import seaborn as sns\n",
    "from sklearn import datasets\n",
    "from imblearn.over_sampling import SMOTE\n",
    "from sklearn.model_selection import train_test_split\n",
    "#Machine Learning Models\n",
    "from xgboost import XGBClassifier, plot_importance\n",
    "from lightgbm import LGBMClassifier, plot_importance\n",
    "from sklearn.naive_bayes import GaussianNB, MultinomialNB\n",
    "from sklearn.ensemble import RandomForestClassifier, AdaBoostClassifier, GradientBoostingClassifier\n",
    "from sklearn.linear_model import LogisticRegression\n",
    "from sklearn.neighbors import KNeighborsClassifier\n",
    "from sklearn.svm import SVC, LinearSVC\n",
    "from sklearn.tree import DecisionTreeClassifier, plot_tree\n",
    "from sklearn.model_selection import StratifiedKFold\n",
    "from sklearn.metrics import (\n",
    "    accuracy_score,\n",
    "    precision_score,\n",
    "    recall_score,\n",
    "    f1_score,\n",
    "    confusion_matrix,\n",
    "    classification_report,\n",
    ")\n",
    "\n",
    "from sklearn.metrics import accuracy_score, confusion_matrix, classification_report\n",
    "\n",
    "import time\n",
    "from collections import Counter\n",
    "from imblearn.combine import SMOTETomek, SMOTEENN\n",
    "from imblearn.over_sampling import ADASYN\n",
    "from imblearn.under_sampling import RandomUnderSampler\n",
    "from imblearn.over_sampling import RandomOverSampler\n",
    "from imblearn.pipeline import Pipeline"
   ]
  },
  {
   "cell_type": "code",
   "execution_count": 68,
   "id": "697acf80-db89-4279-95cc-0a19224756e7",
   "metadata": {},
   "outputs": [],
   "source": [
    "pd.set_option('display.max_columns', 1000)\n",
    "pd.set_option('display.max_rows', None)"
   ]
  },
  {
   "cell_type": "code",
   "execution_count": 69,
   "id": "17598eaf-2507-4166-996b-d238bbf4175a",
   "metadata": {},
   "outputs": [],
   "source": [
    "#HTML\n",
    "df = pd.read_csv('new_html_features.csv').sort_values(by='url')\n",
    "df = df.drop(['url'], axis=1)\n",
    "# # X = df.drop(['label', 'url'], axis=1)\n",
    "# # y = df['label']"
   ]
  },
  {
   "cell_type": "code",
   "execution_count": 70,
   "id": "cf849015-87a4-4306-93dd-8f46ea49ede8",
   "metadata": {},
   "outputs": [
    {
     "data": {
      "text/plain": [
       "63"
      ]
     },
     "execution_count": 70,
     "metadata": {},
     "output_type": "execute_result"
    }
   ],
   "source": [
    "df.shape[1]"
   ]
  },
  {
   "cell_type": "code",
   "execution_count": 71,
   "id": "30881674-d847-4bde-9275-9a32d702b5c2",
   "metadata": {},
   "outputs": [],
   "source": [
    "phishing_df = df[df['label'] == 1]\n",
    "legit_df = df[df['label'] == 0]"
   ]
  },
  {
   "cell_type": "code",
   "execution_count": 72,
   "id": "a6a95b52-aa66-48e8-a5e9-d9f642473df9",
   "metadata": {},
   "outputs": [],
   "source": [
    "feature_columns = [col for col in df.columns if col != 'label']"
   ]
  },
  {
   "cell_type": "code",
   "execution_count": 73,
   "id": "9aba5dc6-4630-460f-aed8-a843a4aa62d2",
   "metadata": {},
   "outputs": [],
   "source": [
    "phishing_means = phishing_df[feature_columns].mean()\n",
    "legit_means = legit_df[feature_columns].mean()"
   ]
  },
  {
   "cell_type": "code",
   "execution_count": 74,
   "id": "a610b1cd-8231-4a34-97ee-e2079f641b04",
   "metadata": {},
   "outputs": [],
   "source": [
    "comparison_df = pd.DataFrame({\n",
    "    'Phishing_Avg': phishing_means,\n",
    "    'Legitimate_Avg': legit_means,\n",
    "    'Difference': phishing_means - legit_means\n",
    "}).sort_values(by='Difference', ascending=False)"
   ]
  },
  {
   "cell_type": "code",
   "execution_count": 75,
   "id": "1f50a678-42c4-4459-a933-0595f0c95c5c",
   "metadata": {},
   "outputs": [
    {
     "name": "stdout",
     "output_type": "stream",
     "text": [
      "                         Phishing_Avg  Legitimate_Avg   Difference\n",
      "js_redirect_count            2.808678        1.247550     1.561128\n",
      "popup_count                  0.150822        0.034612     0.116210\n",
      "has_popup                    0.076121        0.011524     0.064597\n",
      "right_click_disabled         0.033774        0.009977     0.023797\n",
      "has_div_upper                0.000000        0.000007    -0.000007\n",
      "submit_to_email              0.000000        0.000040    -0.000040\n",
      "audio_count                  0.001468        0.001808    -0.000339\n",
      "base_count                   0.020321        0.021407    -0.001085\n",
      "address_count                0.009237        0.021111    -0.011874\n",
      "table_count                  0.073232        0.088075    -0.014843\n",
      "has_base64                   0.065321        0.081079    -0.015757\n",
      "canvas_count                 0.001279        0.024537    -0.023258\n",
      "has_iframe                   0.014258        0.041742    -0.027484\n",
      "submit_input_count           0.014826        0.043399    -0.028573\n",
      "select_count                 0.007153        0.039606    -0.032453\n",
      "title                        0.819241        0.857304    -0.038063\n",
      "has_password_input           0.008195        0.048976    -0.040781\n",
      "th_count                     0.096064        0.139320    -0.043257\n",
      "iframe_count                 0.019326        0.062856    -0.043529\n",
      "password_input_count         0.011605        0.058344    -0.046738\n",
      "has_favicon                  0.209985        0.271735    -0.061750\n",
      "email_input_count            0.038274        0.133857    -0.095583\n",
      "has_js_redirect              0.423523        0.548552    -0.125028\n",
      "suspicious_anchor_count      0.039079        0.173389    -0.134310\n",
      "onclick_event_count          0.397518        0.533459    -0.135941\n",
      "tr_count                     0.201269        0.337983    -0.136714\n",
      "video_count                  0.009995        0.177262    -0.167267\n",
      "has_script                   0.713704        0.896501    -0.182798\n",
      "internal_to_total_ratio      0.136351        0.362813    -0.226462\n",
      "meta_description             0.081569        0.316288    -0.234719\n",
      "https_link_ratio             0.060903        0.309097    -0.248193\n",
      "figure_count                 0.062669        0.327897    -0.265228\n",
      "has_form                     0.060869        0.338783    -0.277915\n",
      "td_count                     0.478518        0.776099    -0.297581\n",
      "external_to_total_ratio      0.074771        0.413531    -0.338759\n",
      "form_count                   0.084885        0.591566    -0.506681\n",
      "h1_count                     0.293733        0.939766    -0.646033\n",
      "option_count                 0.116811        0.883144    -0.766333\n",
      "br_count                     0.570082        1.446958    -0.876876\n",
      "hidden_tag_count             0.112027        1.003164    -0.891137\n",
      "label_count                  0.181090        1.102012    -0.920922\n",
      "nav_count                    0.081474        1.053559    -0.972085\n",
      "ul_count                     0.521576        1.638826    -1.117250\n",
      "h2_count                     0.334233        1.614035    -1.279802\n",
      "section_count                0.167685        1.595602    -1.427917\n",
      "button_count                 0.423050        1.917964    -1.494914\n",
      "empty_href_count             0.800862        2.589908    -1.789046\n",
      "img_count                    2.876131        5.511402    -2.635271\n",
      "li_count                     3.163469        7.383282    -4.219812\n",
      "internal_link_count          3.651698        8.318625    -4.666927\n",
      "external_link_count          1.497418        6.180062    -4.682644\n",
      "style_count                  0.980200        5.990677    -5.010477\n",
      "p_count                      1.669840        6.800584    -5.130744\n",
      "meta_count                   3.561556        8.824448    -5.262893\n",
      "script_count                 3.440197        9.935069    -6.494872\n",
      "anchor_count                 5.149117       14.498688    -9.349571\n",
      "title_length                14.102648       25.590779   -11.488131\n",
      "span_count                   6.034390       20.260209   -14.225820\n",
      "comment_count               11.092795       27.688388   -16.595593\n",
      "div_count                   24.822794       67.156999   -42.334205\n",
      "total_line_count           435.999763      777.630848  -341.631085\n",
      "total_text_length          350.999337     2081.485538 -1730.486201\n"
     ]
    }
   ],
   "source": [
    "print(comparison_df.head(63))"
   ]
  },
  {
   "cell_type": "code",
   "execution_count": null,
   "id": "01567b2a-8578-4865-8781-72cce0cde56d",
   "metadata": {},
   "outputs": [],
   "source": []
  },
  {
   "cell_type": "code",
   "execution_count": null,
   "id": "85465a1b-97ea-4386-98af-08db03827c5b",
   "metadata": {},
   "outputs": [],
   "source": []
  }
 ],
 "metadata": {
  "kernelspec": {
   "display_name": "Python 3 (ipykernel)",
   "language": "python",
   "name": "python3"
  },
  "language_info": {
   "codemirror_mode": {
    "name": "ipython",
    "version": 3
   },
   "file_extension": ".py",
   "mimetype": "text/x-python",
   "name": "python",
   "nbconvert_exporter": "python",
   "pygments_lexer": "ipython3",
   "version": "3.12.2"
  }
 },
 "nbformat": 4,
 "nbformat_minor": 5
}
